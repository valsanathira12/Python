{
 "cells": [
  {
   "cell_type": "markdown",
   "id": "920574f5",
   "metadata": {},
   "source": [
    "# Write a program to check wheater a student is pass or fail"
   ]
  },
  {
   "cell_type": "code",
   "execution_count": 3,
   "id": "715e2a28",
   "metadata": {},
   "outputs": [
    {
     "name": "stdout",
     "output_type": "stream",
     "text": [
      "Enter the marks of the student: 40\n",
      "Fail\n"
     ]
    }
   ],
   "source": [
    "marks=int(input(\"Enter the marks of the student: \"))\n",
    "if marks>=50:\n",
    "    print(\"Pass\")\n",
    "else:\n",
    "    print(\"Fail\")"
   ]
  },
  {
   "cell_type": "markdown",
   "id": "8653d053",
   "metadata": {},
   "source": [
    "# Write a program to check wheater a person is eligble to vote or not"
   ]
  },
  {
   "cell_type": "code",
   "execution_count": 1,
   "id": "a0452f35",
   "metadata": {},
   "outputs": [
    {
     "name": "stdout",
     "output_type": "stream",
     "text": [
      "Enter the age of the candidate: 16\n",
      "Not eligible to vote\n"
     ]
    }
   ],
   "source": [
    "Age=int(input(\"Enter the age of the candidate: \"))\n",
    "if Age>=18:\n",
    "    print(\"Eligible to vote\")\n",
    "else:\n",
    "    print(\"Not eligible to vote\")"
   ]
  },
  {
   "cell_type": "markdown",
   "id": "d00cee68",
   "metadata": {},
   "source": [
    "# Write a program to enter two numbers and print the greatest number."
   ]
  },
  {
   "cell_type": "code",
   "execution_count": 9,
   "id": "b365bfb9",
   "metadata": {},
   "outputs": [
    {
     "name": "stdout",
     "output_type": "stream",
     "text": [
      "Enter the first Number: 10\n",
      "Enter the Second Number: 20\n",
      "Num2-20 is greatest No.\n"
     ]
    }
   ],
   "source": [
    "Num1=int(input(\"Enter the first Number: \"))\n",
    "Num2=int(input(\"Enter the Second Number: \"))\n",
    "if Num1>Num2:\n",
    "    print(\"Num1-{} is greatest No.\".format(Num1))\n",
    "else:\n",
    "    print(\"Num2-{} is greatest No.\".format(Num2))"
   ]
  },
  {
   "cell_type": "markdown",
   "id": "639803ad",
   "metadata": {},
   "source": [
    "# Write a program to enter two numbers and print the smallest number"
   ]
  },
  {
   "cell_type": "code",
   "execution_count": 10,
   "id": "91a04272",
   "metadata": {},
   "outputs": [
    {
     "name": "stdout",
     "output_type": "stream",
     "text": [
      "Enter the first Number: 10\n",
      "Enter the Second Number: 20\n",
      "Num1-10 is smallest No.\n"
     ]
    }
   ],
   "source": [
    "Num1=int(input(\"Enter the first Number: \"))\n",
    "Num2=int(input(\"Enter the Second Number: \"))\n",
    "if Num1<Num2:\n",
    "    print(\"Num1-{} is smallest No.\".format(Num1))\n",
    "else:\n",
    "    print(\"Num2-{} is smallest No.\".format(Num2))"
   ]
  },
  {
   "cell_type": "markdown",
   "id": "4f7ee133",
   "metadata": {},
   "source": [
    "# Write a program to check wheater a given number is even or odd"
   ]
  },
  {
   "cell_type": "code",
   "execution_count": 14,
   "id": "cbd65b0f",
   "metadata": {},
   "outputs": [
    {
     "name": "stdout",
     "output_type": "stream",
     "text": [
      "Please enter the no.:81\n",
      "Odd Number\n"
     ]
    }
   ],
   "source": [
    "Num=int(input(\"Please enter the no.:\"))\n",
    "if Num%2==0:\n",
    "    print(\"Even Number\")\n",
    "else:\n",
    "    print(\"Odd Number\")"
   ]
  },
  {
   "cell_type": "markdown",
   "id": "6cb6614c",
   "metadata": {},
   "source": [
    "# Write a program to enter the salary of an employee,hr-10%,da-5%"
   ]
  },
  {
   "cell_type": "code",
   "execution_count": 16,
   "id": "0ed827b4",
   "metadata": {},
   "outputs": [
    {
     "name": "stdout",
     "output_type": "stream",
     "text": [
      "Enter the basic salary of the employee: 1000\n",
      "Net salary of the employee: 1150.0\n"
     ]
    }
   ],
   "source": [
    "base_salary=int(input(\"Enter the basic salary of the employee: \"))\n",
    "Net_Salary=base_salary +(0.10*base_salary)+(0.05*base_salary)\n",
    "print(\"Net salary of the employee:\",Net_Salary)"
   ]
  },
  {
   "cell_type": "markdown",
   "id": "288fc38a",
   "metadata": {},
   "source": [
    "# Write a program to print yourself introduction."
   ]
  },
  {
   "cell_type": "code",
   "execution_count": 4,
   "id": "f9d18156",
   "metadata": {},
   "outputs": [
    {
     "name": "stdout",
     "output_type": "stream",
     "text": [
      "Please enter your name: Athira Valsan\n",
      "Hai,  Athira Valsan ,Lets learn Python\n",
      "\n"
     ]
    }
   ],
   "source": [
    "x=input(\"Please enter your name: \")\n",
    "print(\"Hai, \", x, \",Lets learn Python\")\n"
   ]
  },
  {
   "cell_type": "markdown",
   "id": "ab37608e",
   "metadata": {},
   "source": [
    "# Write a program fot the following operation"
   ]
  },
  {
   "cell_type": "markdown",
   "id": "e36fd889",
   "metadata": {},
   "source": [
    "#### Addition"
   ]
  },
  {
   "cell_type": "code",
   "execution_count": 2,
   "id": "b933905f",
   "metadata": {},
   "outputs": [
    {
     "name": "stdout",
     "output_type": "stream",
     "text": [
      "Enter the first no: 10\n",
      "Enter the second no:20\n",
      "Addition:  30\n"
     ]
    }
   ],
   "source": [
    "Num1=int(input(\"Enter the first no: \"))\n",
    "Num2=int(input(\"Enter the second no:\"))\n",
    "Add=Num1+Num2\n",
    "print(\"Addition: \", Add)"
   ]
  },
  {
   "cell_type": "markdown",
   "id": "a6b3a85d",
   "metadata": {},
   "source": [
    "#### Subration"
   ]
  },
  {
   "cell_type": "code",
   "execution_count": 3,
   "id": "aec75bfc",
   "metadata": {},
   "outputs": [
    {
     "name": "stdout",
     "output_type": "stream",
     "text": [
      "Enter the first no: 20\n",
      "Enter the second no:21\n",
      "Subration:  -1\n"
     ]
    }
   ],
   "source": [
    "Num1=int(input(\"Enter the first no: \"))\n",
    "Num2=int(input(\"Enter the second no:\"))\n",
    "Sub=Num1-Num2\n",
    "print(\"Subration: \", Sub)"
   ]
  },
  {
   "cell_type": "markdown",
   "id": "e77bcb6c",
   "metadata": {},
   "source": [
    "#### Multiplication"
   ]
  },
  {
   "cell_type": "code",
   "execution_count": 5,
   "id": "504688cf",
   "metadata": {},
   "outputs": [
    {
     "name": "stdout",
     "output_type": "stream",
     "text": [
      "Enter the first no: 10\n",
      "Enter the second no:2\n",
      "Multipliaction:  20\n"
     ]
    }
   ],
   "source": [
    "Num1=int(input(\"Enter the first no: \"))\n",
    "Num2=int(input(\"Enter the second no:\"))\n",
    "Mul=Num1*Num2\n",
    "print(\"Multipliaction: \", Mul)"
   ]
  },
  {
   "cell_type": "markdown",
   "id": "9902857c",
   "metadata": {},
   "source": [
    "#### Division"
   ]
  },
  {
   "cell_type": "code",
   "execution_count": 6,
   "id": "0c0ab285",
   "metadata": {},
   "outputs": [
    {
     "name": "stdout",
     "output_type": "stream",
     "text": [
      "Enter the first no: 10\n",
      "Enter the second no:2\n",
      "Division:  5.0\n"
     ]
    }
   ],
   "source": [
    "Num1=int(input(\"Enter the first no: \"))\n",
    "Num2=int(input(\"Enter the second no:\"))\n",
    "Div=Num1/Num2\n",
    "print(\"Division: \", Div)"
   ]
  },
  {
   "cell_type": "markdown",
   "id": "771b4cc2",
   "metadata": {},
   "source": [
    "#### Modulus"
   ]
  },
  {
   "cell_type": "code",
   "execution_count": 7,
   "id": "1f43e45f",
   "metadata": {},
   "outputs": [
    {
     "name": "stdout",
     "output_type": "stream",
     "text": [
      "Enter the first no: 10\n",
      "Enter the second no:2\n",
      "Modulus:  0\n"
     ]
    }
   ],
   "source": [
    "Num1=int(input(\"Enter the first no: \"))\n",
    "Num2=int(input(\"Enter the second no:\"))\n",
    "Mod=Num1%Num2\n",
    "print(\"Modulus: \", Mod)"
   ]
  },
  {
   "cell_type": "markdown",
   "id": "ef310aed",
   "metadata": {},
   "source": [
    "#### Exponent"
   ]
  },
  {
   "cell_type": "code",
   "execution_count": 9,
   "id": "1b32f1f8",
   "metadata": {},
   "outputs": [
    {
     "name": "stdout",
     "output_type": "stream",
     "text": [
      "Enter the first no: 10\n",
      "Enter the second no:2\n",
      "Power:  100\n"
     ]
    }
   ],
   "source": [
    "Num1=int(input(\"Enter the first no: \"))\n",
    "Num2=int(input(\"Enter the second no:\"))\n",
    "Exp=Num1**Num2\n",
    "print(\"Power: \", Exp)"
   ]
  },
  {
   "cell_type": "markdown",
   "id": "6ce68434",
   "metadata": {},
   "source": [
    "# Write a program to swap two numbers"
   ]
  },
  {
   "cell_type": "code",
   "execution_count": 3,
   "id": "d53ffe4d",
   "metadata": {},
   "outputs": [
    {
     "name": "stdout",
     "output_type": "stream",
     "text": [
      "Enter the first no: 20\n",
      "Enter the second no:10\n",
      "The output of swap is  10 20\n"
     ]
    }
   ],
   "source": [
    "Num1=int(input(\"Enter the first no: \"))\n",
    "Num2=int(input(\"Enter the second no:\"))\n",
    "temp=Num1\n",
    "Num1=Num2\n",
    "Num2=temp\n",
    "print(\"The output of swap is \", Num1, Num2)"
   ]
  },
  {
   "cell_type": "markdown",
   "id": "1b0404d8",
   "metadata": {},
   "source": [
    "# Write a program to swap two numbers without using temp variable"
   ]
  },
  {
   "cell_type": "code",
   "execution_count": 4,
   "id": "e535af37",
   "metadata": {},
   "outputs": [
    {
     "name": "stdout",
     "output_type": "stream",
     "text": [
      "Enter the first no: 12\n",
      "Enter the second no:23\n",
      "The output of swap is  23 12\n"
     ]
    }
   ],
   "source": [
    "Num1=int(input(\"Enter the first no: \"))\n",
    "Num2=int(input(\"Enter the second no:\"))\n",
    "Num1=Num1+Num2\n",
    "Num2=Num1-Num2\n",
    "Num1=Num1-Num2\n",
    "print(\"The output of swap is \", Num1, Num2)"
   ]
  },
  {
   "cell_type": "markdown",
   "id": "4ce60580",
   "metadata": {},
   "source": [
    "# Write a program to compute Simple Interest"
   ]
  },
  {
   "cell_type": "code",
   "execution_count": 7,
   "id": "6b3637e0",
   "metadata": {},
   "outputs": [
    {
     "name": "stdout",
     "output_type": "stream",
     "text": [
      "Enter the Principle : 5000\n",
      "Enter the rate of interest:5\n",
      "Enter the time duration:5\n",
      "Simple Interest:  1250.0\n"
     ]
    }
   ],
   "source": [
    "Principle=int(input(\"Enter the Principle : \"))\n",
    "Rate=int(input(\"Enter the rate of interest:\"))\n",
    "Time=int(input(\"Enter the time duration:\"))\n",
    "SI=(Principle*Rate*Time)/100\n",
    "print(\"Simple Interest: \", SI)"
   ]
  },
  {
   "cell_type": "markdown",
   "id": "7215ccb5",
   "metadata": {},
   "source": [
    "# Write a program to find average of five numbers by user input"
   ]
  },
  {
   "cell_type": "code",
   "execution_count": 11,
   "id": "9d27c592",
   "metadata": {},
   "outputs": [
    {
     "name": "stdout",
     "output_type": "stream",
     "text": [
      "Enter the first no: 1\n",
      "Enter the second no:2\n",
      "Enter the third no: 3\n",
      "Enter the forth no:4\n",
      "Enter the fifth no: 5\n",
      "The Average of Five Numbers is:  3.0\n"
     ]
    }
   ],
   "source": [
    "Num1=int(input(\"Enter the first no: \"))\n",
    "Num2=int(input(\"Enter the second no:\"))\n",
    "Num3=int(input(\"Enter the third no: \"))\n",
    "Num4=int(input(\"Enter the forth no:\"))\n",
    "Num5=int(input(\"Enter the fifth no: \"))\n",
    "Average=(Num1+Num2+Num3+Num4+Num5)/5\n",
    "print(\"The Average of Five Numbers is: \",Average)\n"
   ]
  },
  {
   "cell_type": "markdown",
   "id": "4f66c0ea",
   "metadata": {},
   "source": [
    "# Write a program to calculate the disriminant of a quadratic equation"
   ]
  },
  {
   "cell_type": "code",
   "execution_count": 14,
   "id": "ee4a21be",
   "metadata": {},
   "outputs": [
    {
     "name": "stdout",
     "output_type": "stream",
     "text": [
      "Enter the value of b: 10\n",
      "Enter the value of a:20\n",
      "Enter the value of c: 30\n",
      "Quadratic equation:  -2300\n"
     ]
    }
   ],
   "source": [
    "b=int(input(\"Enter the value of b: \"))\n",
    "a=int(input(\"Enter the value of a:\"))\n",
    "c=int(input(\"Enter the value of c: \"))\n",
    "QE=b**2-4*a*c\n",
    "print(\"Quadratic equation: \", QE)"
   ]
  },
  {
   "cell_type": "markdown",
   "id": "5d185c28",
   "metadata": {},
   "source": [
    "# Write a program to calculate the area of the following shapes:\n"
   ]
  },
  {
   "cell_type": "markdown",
   "id": "fd72550f",
   "metadata": {},
   "source": [
    "#### Rectangle"
   ]
  },
  {
   "cell_type": "code",
   "execution_count": 16,
   "id": "2a1064cd",
   "metadata": {},
   "outputs": [
    {
     "name": "stdout",
     "output_type": "stream",
     "text": [
      "Enter the value of width: 10\n",
      "Enter the value of height 20\n",
      "Area of Rectangle: 200\n"
     ]
    }
   ],
   "source": [
    "w=int(input(\"Enter the value of width: \"))\n",
    "h=int(input(\"Enter the value of height \"))\n",
    "Area=w*h\n",
    "print(\"Area of Rectangle:\",Area)"
   ]
  },
  {
   "cell_type": "markdown",
   "id": "7a5374e8",
   "metadata": {},
   "source": [
    "#### square"
   ]
  },
  {
   "cell_type": "code",
   "execution_count": 18,
   "id": "a1ff6690",
   "metadata": {},
   "outputs": [
    {
     "name": "stdout",
     "output_type": "stream",
     "text": [
      "Enter the value of Side: 10\n",
      "Area of Sqaure: 100\n"
     ]
    }
   ],
   "source": [
    "Side=int(input(\"Enter the value of Side: \"))\n",
    "Area=Side*Side\n",
    "print(\"Area of Sqaure:\",Area)"
   ]
  },
  {
   "cell_type": "markdown",
   "id": "4e954e83",
   "metadata": {},
   "source": [
    "#### Triangle"
   ]
  },
  {
   "cell_type": "code",
   "execution_count": 1,
   "id": "e31f6066",
   "metadata": {},
   "outputs": [
    {
     "name": "stdout",
     "output_type": "stream",
     "text": [
      "Enter the value of base: 10\n",
      "Enter the value of height 10\n",
      "Area of Traingle: 50.0\n"
     ]
    }
   ],
   "source": [
    "b=int(input(\"Enter the value of base: \"))\n",
    "h=int(input(\"Enter the value of height \"))\n",
    "Area=1/2*(b*h)\n",
    "print(\"Area of Traingle:\", Area)"
   ]
  },
  {
   "cell_type": "markdown",
   "id": "7bd437da",
   "metadata": {},
   "source": [
    "#### Circle"
   ]
  },
  {
   "cell_type": "code",
   "execution_count": 7,
   "id": "64e3cde8",
   "metadata": {},
   "outputs": [
    {
     "name": "stdout",
     "output_type": "stream",
     "text": [
      "Enter the value of radius: 10\n",
      "Area of Circle: 314.0\n"
     ]
    }
   ],
   "source": [
    "r=int(input(\"Enter the value of radius: \"))\n",
    "area=3.14*r**2\n",
    "print(\"Area of Circle:\", area)"
   ]
  },
  {
   "cell_type": "markdown",
   "id": "7d27fd5b",
   "metadata": {},
   "source": [
    "# Write a program to calculate power of a number"
   ]
  },
  {
   "cell_type": "code",
   "execution_count": 9,
   "id": "bad48410",
   "metadata": {},
   "outputs": [
    {
     "name": "stdout",
     "output_type": "stream",
     "text": [
      "Enter the first no: 10\n",
      "Enter the second no:2\n",
      "Power of the number:  100\n"
     ]
    }
   ],
   "source": [
    "Num1=int(input(\"Enter the first no: \"))\n",
    "Num2=int(input(\"Enter the second no:\"))\n",
    "power=Num1**Num2\n",
    "print(\"Power of the number: \",power)"
   ]
  },
  {
   "cell_type": "markdown",
   "id": "b46f5e36",
   "metadata": {},
   "source": [
    "# Write a program to get the python version you are using"
   ]
  },
  {
   "cell_type": "code",
   "execution_count": 4,
   "id": "2f7acd0e",
   "metadata": {},
   "outputs": [
    {
     "name": "stdout",
     "output_type": "stream",
     "text": [
      "3.8.8\n"
     ]
    }
   ],
   "source": [
    " from platform import python_version\n",
    "print(python_version())"
   ]
  },
  {
   "cell_type": "code",
   "execution_count": null,
   "id": "df6e8dd8",
   "metadata": {},
   "outputs": [],
   "source": []
  }
 ],
 "metadata": {
  "kernelspec": {
   "display_name": "Python 3",
   "language": "python",
   "name": "python3"
  },
  "language_info": {
   "codemirror_mode": {
    "name": "ipython",
    "version": 3
   },
   "file_extension": ".py",
   "mimetype": "text/x-python",
   "name": "python",
   "nbconvert_exporter": "python",
   "pygments_lexer": "ipython3",
   "version": "3.8.8"
  }
 },
 "nbformat": 4,
 "nbformat_minor": 5
}
