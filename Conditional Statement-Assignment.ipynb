{
 "cells": [
  {
   "cell_type": "markdown",
   "id": "0852f65e",
   "metadata": {},
   "source": [
    "# Write a program to check whether a given number is even or odd."
   ]
  },
  {
   "cell_type": "code",
   "execution_count": 8,
   "id": "4dedc923",
   "metadata": {},
   "outputs": [
    {
     "name": "stdout",
     "output_type": "stream",
     "text": [
      "enter a number8\n",
      "even\n"
     ]
    }
   ],
   "source": [
    "num=int(input(\"enter a number\"))\n",
    "if num%2==0:\n",
    "    print(\"even\")\n",
    "else:\n",
    "    print(\"odd\")"
   ]
  },
  {
   "cell_type": "markdown",
   "id": "3b21ac4b",
   "metadata": {},
   "source": [
    "# write a prograam to check whether an alphabet is a vowel or a consonant"
   ]
  },
  {
   "cell_type": "code",
   "execution_count": 15,
   "id": "254b70b5",
   "metadata": {},
   "outputs": [
    {
     "name": "stdout",
     "output_type": "stream",
     "text": [
      "Enter the alphabet: A\n",
      "vowel\n"
     ]
    }
   ],
   "source": [
    "alpha=input(\"Enter the alphabet: \")\n",
    "vowel=['a','e','i','o','u','A','E','I','O','U']\n",
    "if alpha in vowel:\n",
    "    print(\"vowel\")\n",
    "else:\n",
    "    print(\"consonant\")"
   ]
  },
  {
   "cell_type": "markdown",
   "id": "967ae5b3",
   "metadata": {},
   "source": [
    "# Write a program to check if a person is elegible to vote or not"
   ]
  },
  {
   "cell_type": "code",
   "execution_count": 17,
   "id": "7438e6ab",
   "metadata": {},
   "outputs": [
    {
     "name": "stdout",
     "output_type": "stream",
     "text": [
      "Enter the age of the person: 16\n",
      "Not eligible to vote\n"
     ]
    }
   ],
   "source": [
    "age=int(input(\"Enter the age of the person: \"))\n",
    "if age>=18:\n",
    "    print(\"Eligible to vote\")\n",
    "else:\n",
    "    print(\"Not eligible to vote\")"
   ]
  },
  {
   "cell_type": "markdown",
   "id": "916e67f4",
   "metadata": {},
   "source": [
    "# Write a program to check wheater a given number is poitive, negative or zero"
   ]
  },
  {
   "cell_type": "code",
   "execution_count": 37,
   "id": "ebc3ca3e",
   "metadata": {},
   "outputs": [
    {
     "name": "stdout",
     "output_type": "stream",
     "text": [
      "Enter the number: -2\n",
      "negative\n"
     ]
    }
   ],
   "source": [
    "num=int(input(\"Enter the number: \"))\n",
    "if num>0:\n",
    "    print(\"positive number\")\n",
    "elif num<0:\n",
    "    print(\"negative\")\n",
    "elif num==0:\n",
    "    print(\"zero\")"
   ]
  },
  {
   "cell_type": "markdown",
   "id": "69130fbc",
   "metadata": {},
   "source": [
    "# Write a program to check whether a given year is leap year or not"
   ]
  },
  {
   "cell_type": "code",
   "execution_count": 42,
   "id": "fe2aa2d6",
   "metadata": {},
   "outputs": [
    {
     "name": "stdout",
     "output_type": "stream",
     "text": [
      "Enter the number: 2021\n",
      "Not leap yer\n"
     ]
    }
   ],
   "source": [
    "num=int(input(\"Enter the number: \"))\n",
    "if ((num%400==0) or (num%4==0 and num%100!=0)):\n",
    "    print(\"leap year\")\n",
    "else:\n",
    "    print(\"Not leap year\")\n",
    "    "
   ]
  },
  {
   "cell_type": "markdown",
   "id": "1b4a6a3e",
   "metadata": {},
   "source": [
    "# Write a program to check a triangle is equilateral, isosceles or scalene"
   ]
  },
  {
   "cell_type": "code",
   "execution_count": 45,
   "id": "6e5cac48",
   "metadata": {},
   "outputs": [
    {
     "name": "stdout",
     "output_type": "stream",
     "text": [
      "Enter the side of a triangle:4\n",
      "Enter the side of a triangle:6\n",
      "Enter the side of a triangle:8\n",
      "scalene\n"
     ]
    }
   ],
   "source": [
    "x=int(input(\"Enter the side of a triangle:\"))\n",
    "y=int(input(\"Enter the side of a triangle:\"))\n",
    "z=int(input(\"Enter the side of a triangle:\"))\n",
    "if x==y==z:\n",
    "    print(\"equilateral triangle\")\n",
    "elif x==y or y==z or x==z:\n",
    "    print(\"isosceles\")\n",
    "else:\n",
    "    print(\"scalene\")"
   ]
  },
  {
   "cell_type": "markdown",
   "id": "11ce3017",
   "metadata": {},
   "source": [
    "# Write a program to check whether after selling a product its profit or loss\n"
   ]
  },
  {
   "cell_type": "code",
   "execution_count": 51,
   "id": "05508b4c",
   "metadata": {},
   "outputs": [
    {
     "name": "stdout",
     "output_type": "stream",
     "text": [
      "Enter the cost price of the product100\n",
      "Enter the selling price of the product20\n",
      "loss\n"
     ]
    }
   ],
   "source": [
    "cp=int(input(\"Enter the cost price of the product\"))\n",
    "sp=int(input(\"Enter the selling price of the product\"))\n",
    "if sp>=cp:\n",
    "    print(\"profit\")\n",
    "else:\n",
    "    print(\"loss\")"
   ]
  },
  {
   "cell_type": "markdown",
   "id": "a24e1690",
   "metadata": {},
   "source": [
    "# Write a progarm to enter two numbers and print the greatest number."
   ]
  },
  {
   "cell_type": "code",
   "execution_count": 3,
   "id": "66bcd7fc",
   "metadata": {},
   "outputs": [
    {
     "name": "stdout",
     "output_type": "stream",
     "text": [
      "Enter Num1: 20\n",
      "Enter Num2: 10\n",
      "the greatest number is 20\n"
     ]
    }
   ],
   "source": [
    "num1=int(input(\"Enter Num1: \"))\n",
    "num2=int(input(\"Enter Num2: \"))\n",
    "if num1>num2:\n",
    "    print(\"the greatest number is {}\".format(num1))\n",
    "else:\n",
    "    print(\"the greatest number is {}\".format(num2))"
   ]
  },
  {
   "cell_type": "markdown",
   "id": "1ce0f9dc",
   "metadata": {},
   "source": [
    "# Write a progarm to enter two numbers and print the smallest number."
   ]
  },
  {
   "cell_type": "code",
   "execution_count": 4,
   "id": "fb85bd54",
   "metadata": {},
   "outputs": [
    {
     "name": "stdout",
     "output_type": "stream",
     "text": [
      "Enter Num1: 10\n",
      "Enter Num2: 20\n",
      "the smallest number is 10\n"
     ]
    }
   ],
   "source": [
    "num1=int(input(\"Enter Num1: \"))\n",
    "num2=int(input(\"Enter Num2: \"))\n",
    "if num1<num2:\n",
    "    print(\"the smallest number is {}\".format(num1))\n",
    "else:\n",
    "    print(\"the smallest number is {}\".format(num2))"
   ]
  },
  {
   "cell_type": "markdown",
   "id": "ce218718",
   "metadata": {},
   "source": [
    "# Write a progarm to enter three numbers and print the greatest number."
   ]
  },
  {
   "cell_type": "code",
   "execution_count": 1,
   "id": "e9d62c8c",
   "metadata": {},
   "outputs": [
    {
     "name": "stdout",
     "output_type": "stream",
     "text": [
      "Enter Num1: 500\n",
      "Enter Num2: 254\n",
      "Enter Num3: 800\n",
      "the greatest number is 800\n"
     ]
    }
   ],
   "source": [
    "num1=int(input(\"Enter Num1: \"))\n",
    "num2=int(input(\"Enter Num2: \"))\n",
    "num3=int(input(\"Enter Num3: \"))\n",
    "if num1>num2 and num1>num3:\n",
    "    print(\"the greatest number is {}\".format(num1))\n",
    "elif num2>num1 and num2>num3:\n",
    "    print(\"the greatest number is {}\".format(num2))\n",
    "elif num3>num1 and num3>num2:\n",
    "    print(\"the greatest number is {}\".format(num3))"
   ]
  },
  {
   "cell_type": "markdown",
   "id": "f008365e",
   "metadata": {},
   "source": [
    "# Write a progarm to enter three numbers and print the smallest number."
   ]
  },
  {
   "cell_type": "code",
   "execution_count": 3,
   "id": "5e6ae53f",
   "metadata": {},
   "outputs": [
    {
     "name": "stdout",
     "output_type": "stream",
     "text": [
      "Enter Num1: 26584\n",
      "Enter Num2: 2654\n",
      "Enter Num3: 0165\n",
      "the smallest number is 165\n"
     ]
    }
   ],
   "source": [
    "num1=int(input(\"Enter Num1: \"))\n",
    "num2=int(input(\"Enter Num2: \"))\n",
    "num3=int(input(\"Enter Num3: \"))\n",
    "if num1<num2 and num1<num3:\n",
    "    print(\"the smallest number is {}\".format(num1))\n",
    "elif num2<num1 and num2<num3:\n",
    "    print(\"the smallest number is {}\".format(num2))\n",
    "elif num3<num1 and num3<num2:\n",
    "    print(\"the smallest number is {}\".format(num3))"
   ]
  },
  {
   "cell_type": "markdown",
   "id": "aa9b1a75",
   "metadata": {},
   "source": [
    "# Write a program to calculate the roots of quadratic equation"
   ]
  },
  {
   "cell_type": "code",
   "execution_count": 10,
   "id": "5a8b8a44",
   "metadata": {},
   "outputs": [
    {
     "name": "stdout",
     "output_type": "stream",
     "text": [
      "Enter a: 3\n",
      "Enter b: 5\n",
      "Enter c: -7\n",
      "0.9067177514850918\n",
      "-2.5733844181517584\n"
     ]
    }
   ],
   "source": [
    "a=int(input(\"Enter a: \"))\n",
    "b=int(input(\"Enter b: \"))\n",
    "\n",
    "c=int(input(\"Enter c: \"))\n",
    "q1=(-b+(b**2-4*a*c)**(1/2))/(2*a)\n",
    "q2=(-b-(b**2-4*a*c)**(1/2))/(2*a)\n",
    "print(q1)\n",
    "print(q2)"
   ]
  },
  {
   "cell_type": "markdown",
   "id": "8cb9f9f0",
   "metadata": {},
   "source": [
    "# Write a program to enter a number between (1-7) and print the respective day of the week\n"
   ]
  },
  {
   "cell_type": "code",
   "execution_count": 11,
   "id": "804084af",
   "metadata": {},
   "outputs": [
    {
     "name": "stdout",
     "output_type": "stream",
     "text": [
      "enter a num between 1-7:4\n",
      "Wednesday\n"
     ]
    }
   ],
   "source": [
    " num1=int(input(\"enter a num between 1-7:\"))\n",
    "if num1==1:\n",
    "    print(\"Sunday\")\n",
    "elif num1==2:\n",
    "    print(\"Monday\")\n",
    "elif num1==3:\n",
    "    print(\"Tuesday\")\n",
    "elif num1==4:\n",
    "    print(\"Wednesday\")\n",
    "elif num1==5:\n",
    "    print(\"Thursday\")\n",
    "elif num1==6:\n",
    "    print(\"Friday\")\n",
    "elif num1==7:\n",
    "    print(\"Saturady\")\n",
    "else:\n",
    "    print(\"invalid input\")"
   ]
  },
  {
   "cell_type": "markdown",
   "id": "7dbb6c95",
   "metadata": {},
   "source": [
    "# Factorial of a number"
   ]
  },
  {
   "cell_type": "code",
   "execution_count": null,
   "id": "60c63abf",
   "metadata": {},
   "outputs": [],
   "source": [
    "num=int(input(\"Enter the number:\"))\n",
    "i=1\n",
    "fact=1\n",
    "while i<=num:\n",
    "    fact=fact*i\n",
    "    i+=1\n",
    "print(fact)"
   ]
  },
  {
   "cell_type": "markdown",
   "id": "627bfc44",
   "metadata": {},
   "source": [
    "# Reverse the input number"
   ]
  },
  {
   "cell_type": "code",
   "execution_count": 1,
   "id": "09f1ce5a",
   "metadata": {},
   "outputs": [
    {
     "name": "stdout",
     "output_type": "stream",
     "text": [
      "Enter the number:567\n",
      "765\n"
     ]
    }
   ],
   "source": [
    "num=int(input(\"Enter the number:\"))\n",
    "i=1\n",
    "rev=0\n",
    "a=0\n",
    "while num!=0:\n",
    "    rev=num%10   \n",
    "    a=a*10+rev    \n",
    "    i+=1\n",
    "    num=num//10\n",
    "print(a)"
   ]
  },
  {
   "cell_type": "markdown",
   "id": "7a6e948b",
   "metadata": {},
   "source": [
    "# Palindrome"
   ]
  },
  {
   "cell_type": "code",
   "execution_count": 10,
   "id": "80b7fe96",
   "metadata": {},
   "outputs": [
    {
     "name": "stdout",
     "output_type": "stream",
     "text": [
      "Enter the number:58959\n",
      " Not Palindrome\n"
     ]
    }
   ],
   "source": [
    "num=int(input(\"Enter the number:\"))\n",
    "\n",
    "rev=0\n",
    "a=0\n",
    "temp=num   \n",
    "while num>0:\n",
    "    rev=num%10    \n",
    "    a=a*10+rev      \n",
    "\n",
    "    num=num//10  \n",
    "if temp==a:\n",
    "    print(\"Palindrome\")\n",
    "else:\n",
    "    print(\" Not Palindrome\")\n"
   ]
  },
  {
   "cell_type": "code",
   "execution_count": null,
   "id": "c8738138",
   "metadata": {},
   "outputs": [],
   "source": []
  },
  {
   "cell_type": "markdown",
   "id": "7da72ca0",
   "metadata": {},
   "source": [
    "# Reverse the input number and find sum"
   ]
  },
  {
   "cell_type": "code",
   "execution_count": 9,
   "id": "11f6d92a",
   "metadata": {},
   "outputs": [
    {
     "name": "stdout",
     "output_type": "stream",
     "text": [
      "Enter a number567\n",
      "765\n",
      "18\n"
     ]
    }
   ],
   "source": [
    "num=int(input(\"Enter a number\"))\n",
    "i=1\n",
    "sum=0\n",
    "rev=0\n",
    "a=0\n",
    "while num!=0:\n",
    "    rev=num%10\n",
    "    a=a*10+rev\n",
    "    sum=rev+sum\n",
    "    i=+1\n",
    "    num=num//10\n",
    "print(a)\n",
    "print(sum)\n",
    "    "
   ]
  },
  {
   "cell_type": "markdown",
   "id": "611a9ec3",
   "metadata": {},
   "source": [
    "# Write a program to enter a number between (1-12) and print the respective day of the Month"
   ]
  },
  {
   "cell_type": "code",
   "execution_count": 11,
   "id": "c501dfcc",
   "metadata": {},
   "outputs": [
    {
     "name": "stdout",
     "output_type": "stream",
     "text": [
      "enter a num between 1-12:8\n",
      "Aug\n"
     ]
    }
   ],
   "source": [
    " num1=int(input(\"enter a num between 1-12:\"))\n",
    "if num1==1:\n",
    "    print(\"Jan\")\n",
    "elif num1==2:\n",
    "    print(\"Feb\")\n",
    "elif num1==3:\n",
    "    print(\"Mar\")\n",
    "elif num1==4:\n",
    "    print(\"Apr\")\n",
    "elif num1==5:\n",
    "    print(\"May\")\n",
    "elif num1==6:\n",
    "    print(\"Jun\")\n",
    "elif num1==7:\n",
    "    print(\"Jul\")\n",
    "elif num1==8:\n",
    "    print(\"Aug\")\n",
    "elif num1==9:\n",
    "    print(\"Sept\")\n",
    "elif num1==10:\n",
    "    print(\"Oct\")\n",
    "elif num1==11:\n",
    "    print(\"Nov\")\n",
    "elif num1==12:\n",
    "    print(\"Dec\")\n",
    "else:\n",
    "    print(\"invalid input\")"
   ]
  },
  {
   "cell_type": "markdown",
   "id": "39127541",
   "metadata": {},
   "source": [
    "# Write a program to enter a number between (1-4) and perform the following"
   ]
  },
  {
   "cell_type": "code",
   "execution_count": 2,
   "id": "8b509f59",
   "metadata": {},
   "outputs": [
    {
     "name": "stdout",
     "output_type": "stream",
     "text": [
      "Enter between 1-4:5\n",
      "invalid input\n"
     ]
    }
   ],
   "source": [
    "num1=int(input(\"Enter between 1-4:\"))\n",
    "if num1==1:\n",
    "    add=10+20\n",
    "    print(\"addition:\",add)\n",
    "elif num1==2:\n",
    "    sub=20-10\n",
    "    print(\"Subtraction:\",sub)\n",
    "elif num1==3:\n",
    "    Mul=20*10\n",
    "    print(\"Multiplication:\",Mul)\n",
    "elif num1==4:\n",
    "    div=20/10\n",
    "    print(\"Division:\",div)   \n",
    "else:\n",
    "    print(\"invalid input\")"
   ]
  },
  {
   "cell_type": "markdown",
   "id": "bda9be70",
   "metadata": {},
   "source": [
    "# Write a program to convert temperature from degree celcius to fahrenhit"
   ]
  },
  {
   "cell_type": "code",
   "execution_count": 13,
   "id": "4fcf67f4",
   "metadata": {},
   "outputs": [
    {
     "name": "stdout",
     "output_type": "stream",
     "text": [
      "Enter temperature in celcius:23\n",
      "23.0 celsius is: 73.4\n"
     ]
    }
   ],
   "source": [
    "celcius=float(input(\"Enter temperature in celcius:\"))\n",
    "feh=(celcius*9/5)+32\n",
    "print(celcius,\"celsius is:\",feh)"
   ]
  },
  {
   "cell_type": "markdown",
   "id": "44618ebb",
   "metadata": {},
   "source": [
    "# A company decided to give 5% to employee if his/her year of service is more than 5 years.Ask user for their salary and year of service and print the net bonus amount"
   ]
  },
  {
   "cell_type": "code",
   "execution_count": 8,
   "id": "3d36f494",
   "metadata": {},
   "outputs": [
    {
     "name": "stdout",
     "output_type": "stream",
     "text": [
      "Ener salary1000\n",
      "Enter year:6\n",
      " bonus is: 50.0 \n"
     ]
    }
   ],
   "source": [
    "salary=int(input(\"Ener salary\"))\n",
    "year=int(input(\"Enter year:\"))\n",
    "bonus=0\n",
    "if year >5:\n",
    "    bonus=salary*0.05\n",
    "    print(f' bonus is: {bonus} ')\n",
    "else:\n",
    "    print(\"Sorry, no bonus\")\n",
    "    "
   ]
  },
  {
   "cell_type": "markdown",
   "id": "09a6004e",
   "metadata": {},
   "source": [
    "# Write a program to take input of length and bredth of a rectangle from user and check if it is square or not"
   ]
  },
  {
   "cell_type": "code",
   "execution_count": 10,
   "id": "c811ab47",
   "metadata": {},
   "outputs": [
    {
     "name": "stdout",
     "output_type": "stream",
     "text": [
      "Enter length:14\n",
      "Enter width:10\n",
      "Not sqaure\n"
     ]
    }
   ],
   "source": [
    "length=int(input(\"Enter length:\"))\n",
    "width=int(input(\"Enter width:\"))\n",
    "if length==width:\n",
    "    print(\"square\")\n",
    "else:\n",
    "    print(\"Not sqaure\")"
   ]
  },
  {
   "cell_type": "markdown",
   "id": "0a1bc45d",
   "metadata": {},
   "source": [
    "# Take input as age of 3 people by user and determine oldest and youngest amoung them"
   ]
  },
  {
   "cell_type": "code",
   "execution_count": 2,
   "id": "5f096a41",
   "metadata": {},
   "outputs": [
    {
     "name": "stdout",
     "output_type": "stream",
     "text": [
      "Enter the first persons age:10\n",
      "Enter the second persons age:20\n",
      "Enter the third persons age:30\n",
      "age3\n"
     ]
    }
   ],
   "source": [
    "age1=int(input(\"Enter the first persons age:\"))\n",
    "age2=int(input(\"Enter the second persons age:\"))\n",
    "age3=int(input(\"Enter the third persons age:\"))\n",
    "if age1>age2 and age1>age3:\n",
    "    print(\"age1\")\n",
    "elif age2>age3 and age2>age1:\n",
    "    print(\"age2\")\n",
    "elif age3>age1 and age3>age2:\n",
    "    print(\"age3\")  "
   ]
  },
  {
   "cell_type": "markdown",
   "id": "a010be00",
   "metadata": {},
   "source": [
    "# A school has grading system"
   ]
  },
  {
   "cell_type": "code",
   "execution_count": 10,
   "id": "fdd8aa15",
   "metadata": {},
   "outputs": [
    {
     "name": "stdout",
     "output_type": "stream",
     "text": [
      "Enter the score56\n",
      "Grade C\n"
     ]
    }
   ],
   "source": [
    "score=int(input(\"Enter the score\"))\n",
    "if score<25:\n",
    "    print(\"Grade F\")\n",
    "elif score>25 and score<45:\n",
    "    print(\"Grade E\")\n",
    "elif score>45 and score<50:\n",
    "    print(\"Grade D\")\n",
    "elif score>50 and score<60:\n",
    "    print(\"Grade C\")\n",
    "elif score>60 and score<80:\n",
    "    print(\"Grade B\")\n",
    "elif  score>80:\n",
    "    print(\"Grade A\")"
   ]
  },
  {
   "cell_type": "code",
   "execution_count": null,
   "id": "5ba8be81",
   "metadata": {},
   "outputs": [],
   "source": []
  }
 ],
 "metadata": {
  "kernelspec": {
   "display_name": "Python 3",
   "language": "python",
   "name": "python3"
  },
  "language_info": {
   "codemirror_mode": {
    "name": "ipython",
    "version": 3
   },
   "file_extension": ".py",
   "mimetype": "text/x-python",
   "name": "python",
   "nbconvert_exporter": "python",
   "pygments_lexer": "ipython3",
   "version": "3.8.8"
  }
 },
 "nbformat": 4,
 "nbformat_minor": 5
}
