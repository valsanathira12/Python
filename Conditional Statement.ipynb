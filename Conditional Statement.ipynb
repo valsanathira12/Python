{
 "cells": [
  {
   "cell_type": "markdown",
   "id": "0852f65e",
   "metadata": {},
   "source": [
    "# Write a program to check whether a given number is even or odd."
   ]
  },
  {
   "cell_type": "code",
   "execution_count": 8,
   "id": "4dedc923",
   "metadata": {},
   "outputs": [
    {
     "name": "stdout",
     "output_type": "stream",
     "text": [
      "enter a number8\n",
      "even\n"
     ]
    }
   ],
   "source": [
    "num=int(input(\"enter a number\"))\n",
    "if num%2==0:\n",
    "    print(\"even\")\n",
    "else:\n",
    "    print(\"odd\")"
   ]
  },
  {
   "cell_type": "markdown",
   "id": "3b21ac4b",
   "metadata": {},
   "source": [
    "# write a prograam to check whether an alphabet is a vowel or a consonant"
   ]
  },
  {
   "cell_type": "code",
   "execution_count": 15,
   "id": "254b70b5",
   "metadata": {},
   "outputs": [
    {
     "name": "stdout",
     "output_type": "stream",
     "text": [
      "Enter the alphabet: A\n",
      "vowel\n"
     ]
    }
   ],
   "source": [
    "alpha=input(\"Enter the alphabet: \")\n",
    "vowel=['a','e','i','o','u','A','E','I','O','U']\n",
    "if alpha in vowel:\n",
    "    print(\"vowel\")\n",
    "else:\n",
    "    print(\"consonant\")"
   ]
  },
  {
   "cell_type": "markdown",
   "id": "967ae5b3",
   "metadata": {},
   "source": [
    "# Write a program to check if a person is elegible to vote or not"
   ]
  },
  {
   "cell_type": "code",
   "execution_count": 17,
   "id": "7438e6ab",
   "metadata": {},
   "outputs": [
    {
     "name": "stdout",
     "output_type": "stream",
     "text": [
      "Enter the age of the person: 16\n",
      "Not eligible to vote\n"
     ]
    }
   ],
   "source": [
    "age=int(input(\"Enter the age of the person: \"))\n",
    "if age>=18:\n",
    "    print(\"Eligible to vote\")\n",
    "else:\n",
    "    print(\"Not eligible to vote\")"
   ]
  },
  {
   "cell_type": "markdown",
   "id": "916e67f4",
   "metadata": {},
   "source": [
    "# Write a program to check wheater a given number is poitive, negative or zero"
   ]
  },
  {
   "cell_type": "code",
   "execution_count": 37,
   "id": "ebc3ca3e",
   "metadata": {},
   "outputs": [
    {
     "name": "stdout",
     "output_type": "stream",
     "text": [
      "Enter the number: -2\n",
      "negative\n"
     ]
    }
   ],
   "source": [
    "num=int(input(\"Enter the number: \"))\n",
    "if num>0:\n",
    "    print(\"positive number\")\n",
    "elif num<0:\n",
    "    print(\"negative\")\n",
    "elif num==0:\n",
    "    print(\"zero\")"
   ]
  },
  {
   "cell_type": "markdown",
   "id": "69130fbc",
   "metadata": {},
   "source": [
    "# Write a program to check whether a given year is leap year or not"
   ]
  },
  {
   "cell_type": "code",
   "execution_count": 42,
   "id": "fe2aa2d6",
   "metadata": {},
   "outputs": [
    {
     "name": "stdout",
     "output_type": "stream",
     "text": [
      "Enter the number: 2021\n",
      "Not leap yer\n"
     ]
    }
   ],
   "source": [
    "num=int(input(\"Enter the number: \"))\n",
    "if ((num%400==0) or (num%4==0 and num%100!=0)):\n",
    "    print(\"leap year\")\n",
    "else:\n",
    "    print(\"Not leap year\")\n",
    "    "
   ]
  },
  {
   "cell_type": "markdown",
   "id": "1b4a6a3e",
   "metadata": {},
   "source": [
    "# Write a program to check a triangle is equilateral, isosceles or scalene"
   ]
  },
  {
   "cell_type": "code",
   "execution_count": 45,
   "id": "6e5cac48",
   "metadata": {},
   "outputs": [
    {
     "name": "stdout",
     "output_type": "stream",
     "text": [
      "Enter the side of a triangle:4\n",
      "Enter the side of a triangle:6\n",
      "Enter the side of a triangle:8\n",
      "scalene\n"
     ]
    }
   ],
   "source": [
    "x=int(input(\"Enter the side of a triangle:\"))\n",
    "y=int(input(\"Enter the side of a triangle:\"))\n",
    "z=int(input(\"Enter the side of a triangle:\"))\n",
    "if x==y==z:\n",
    "    print(\"equilateral triangle\")\n",
    "elif x==y or y==z or x==z:\n",
    "    print(\"isosceles\")\n",
    "else:\n",
    "    print(\"scalene\")"
   ]
  },
  {
   "cell_type": "markdown",
   "id": "11ce3017",
   "metadata": {},
   "source": [
    "# Write a program to check whether after selling a product its profit or loss\n"
   ]
  },
  {
   "cell_type": "code",
   "execution_count": 51,
   "id": "05508b4c",
   "metadata": {},
   "outputs": [
    {
     "name": "stdout",
     "output_type": "stream",
     "text": [
      "Enter the cost price of the product100\n",
      "Enter the selling price of the product20\n",
      "loss\n"
     ]
    }
   ],
   "source": [
    "cp=int(input(\"Enter the cost price of the product\"))\n",
    "sp=int(input(\"Enter the selling price of the product\"))\n",
    "if sp>=cp:\n",
    "    print(\"profit\")\n",
    "else:\n",
    "    print(\"loss\")"
   ]
  },
  {
   "cell_type": "code",
   "execution_count": null,
   "id": "1f736379",
   "metadata": {},
   "outputs": [],
   "source": []
  }
 ],
 "metadata": {
  "kernelspec": {
   "display_name": "Python 3",
   "language": "python",
   "name": "python3"
  },
  "language_info": {
   "codemirror_mode": {
    "name": "ipython",
    "version": 3
   },
   "file_extension": ".py",
   "mimetype": "text/x-python",
   "name": "python",
   "nbconvert_exporter": "python",
   "pygments_lexer": "ipython3",
   "version": "3.8.8"
  }
 },
 "nbformat": 4,
 "nbformat_minor": 5
}
