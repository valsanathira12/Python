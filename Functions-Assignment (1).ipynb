{
 "cells": [
  {
   "cell_type": "markdown",
   "id": "96082f2c",
   "metadata": {},
   "source": [
    "# Write a function to find the Max of three numbers."
   ]
  },
  {
   "cell_type": "code",
   "execution_count": null,
   "id": "9f894b4f",
   "metadata": {},
   "outputs": [],
   "source": [
    "def maximum(a,b,c):\n",
    "    if a>b and a>c:\n",
    "        print(a)\n",
    "    elif b>c:\n",
    "        print(b)\n",
    "    else:\n",
    "        print(c)\n",
    "num1=int(input())\n",
    "num2=int(input())\n",
    "num3=int(input())\n",
    "maximum(num1,num2,num3)"
   ]
  },
  {
   "cell_type": "markdown",
   "id": "5bbb7726",
   "metadata": {},
   "source": [
    "# Write a program to print the sum of a list"
   ]
  },
  {
   "cell_type": "code",
   "execution_count": null,
   "id": "d0c5d16f",
   "metadata": {},
   "outputs": [],
   "source": [
    "def sum1(l1):\n",
    "    res=0\n",
    "    for i in range(len(l1)):\n",
    "        res=res+l1[i]\n",
    "    print(res)\n",
    "    \n",
    "l1=[1,2,3,4,5]\n",
    "sum1(l1)"
   ]
  },
  {
   "cell_type": "markdown",
   "id": "6c5177b7",
   "metadata": {},
   "source": [
    "# Write a program to multiply all numbers in a list"
   ]
  },
  {
   "cell_type": "code",
   "execution_count": null,
   "id": "72c4f76e",
   "metadata": {},
   "outputs": [],
   "source": [
    "def mul(l1):\n",
    "    res=1\n",
    "    for i in range(len(l1)):\n",
    "        res=res*l1[i]\n",
    "    print(res)\n",
    "    \n",
    "l1=[1,2,3,4,5]\n",
    "mul(l1)"
   ]
  },
  {
   "cell_type": "markdown",
   "id": "04694fa8",
   "metadata": {},
   "source": [
    "# Write a program to reverse a string"
   ]
  },
  {
   "cell_type": "code",
   "execution_count": null,
   "id": "8ba588cf",
   "metadata": {},
   "outputs": [],
   "source": [
    "def string(s1):\n",
    "    s2=\"\"\n",
    "    for i in range(len(s1)):\n",
    "        s2=s1[::-1]\n",
    "    print(s2)\n",
    "\n",
    "s1=input(\"Enter the string\")\n",
    "string(s1)"
   ]
  },
  {
   "cell_type": "markdown",
   "id": "e5a63917",
   "metadata": {},
   "source": [
    "# Write a function to calculate the factorial of a number."
   ]
  },
  {
   "cell_type": "code",
   "execution_count": null,
   "id": "d72afbb8",
   "metadata": {},
   "outputs": [],
   "source": [
    "def fact(x):\n",
    "    res=1\n",
    "    for i in range(1,x+1):\n",
    "        res=res*i\n",
    "    return res\n",
    "\n",
    "num=int(input(\"Enter the number:\"))\n",
    "print(fact(num))"
   ]
  },
  {
   "cell_type": "markdown",
   "id": "d12ca7c5",
   "metadata": {},
   "source": [
    "# Write a function that accepts a string and calculate the number of upper case letters and lower case letters"
   ]
  },
  {
   "cell_type": "code",
   "execution_count": null,
   "id": "e7a4ca11",
   "metadata": {},
   "outputs": [],
   "source": [
    "def count(string):\n",
    "    ucount=0\n",
    "    lcount=0\n",
    "    for i in range(len(string)):\n",
    "        if string[i].isupper():\n",
    "            ucount+=1\n",
    "        elif string[i].islower():\n",
    "            lcount+=1\n",
    "    return(ucount,lcount)\n",
    "\n",
    "string=input(\"Enter the string\")\n",
    "print(\"The count of upper case and lower case is as follows\",count(string))\n",
    "        "
   ]
  },
  {
   "cell_type": "markdown",
   "id": "bf2f72e5",
   "metadata": {},
   "source": [
    "# Write a function that takes a list and returns a new list with unique elements of the first list."
   ]
  },
  {
   "cell_type": "code",
   "execution_count": null,
   "id": "63ec6118",
   "metadata": {},
   "outputs": [],
   "source": [
    "def uniq(l1):\n",
    "    l2=[ ]\n",
    "    for i in range(len(l1)):\n",
    "        if l1[i] not in l2:\n",
    "            l2.append(l1[i])\n",
    "    print(l2)\n",
    "\n",
    "\n",
    "l1=[1,1,2,2,3,4,5,6,6]\n",
    "uniq(l1)"
   ]
  },
  {
   "cell_type": "markdown",
   "id": "d4ce794e",
   "metadata": {},
   "source": [
    "# Write a function that takes a number as a parameter and checks that the number is prime or not"
   ]
  },
  {
   "cell_type": "code",
   "execution_count": null,
   "id": "a24bf4e0",
   "metadata": {},
   "outputs": [],
   "source": [
    "def prime(num):\n",
    "    count=0\n",
    "    num=int(input(\"Enter the number\"))    \n",
    "    for i in range (1, num+1):\n",
    "        if num%i==0:\n",
    "            count+=1\n",
    "        else:\n",
    "            continue\n",
    "    if count==2:\n",
    "        print(\"Prime Number\")\n",
    "        return \n",
    "    else :\n",
    "        print(\"Not prime Number\")\n",
    "        return \n",
    "\n",
    "prime(num)"
   ]
  },
  {
   "cell_type": "markdown",
   "id": "6a4e286c",
   "metadata": {},
   "source": [
    "# Write a function to check if the number is perfect or not"
   ]
  },
  {
   "cell_type": "code",
   "execution_count": null,
   "id": "fe17e76f",
   "metadata": {},
   "outputs": [],
   "source": [
    "def perfect(num):\n",
    "    count=0\n",
    "    for i in range(1,num):\n",
    "        if num%i==0:\n",
    "            count=count+i\n",
    "    if count==num:\n",
    "        print(\"Perfect number\")\n",
    "        return\n",
    "    else:\n",
    "        print(\"Not a perfect number\")\n",
    "        return \n",
    "    \n",
    "num=int(input(\"Enter the number:\"))\n",
    "perfect(num)"
   ]
  },
  {
   "cell_type": "markdown",
   "id": "edf0ce91",
   "metadata": {},
   "source": [
    "# Write a function that checks whether a passed string is palindrome or not"
   ]
  },
  {
   "cell_type": "code",
   "execution_count": null,
   "id": "787c7aa5",
   "metadata": {},
   "outputs": [],
   "source": [
    "def string(strinput):\n",
    "    pal=\"\"\n",
    "    pal=strinput[::-1]\n",
    "    print(\"reverse\",pal)\n",
    "    print(strinput)\n",
    "    if  pal == strinput:\n",
    "        print(\"Palindrome\")\n",
    "        return\n",
    "    else:\n",
    "        print(\"Not Palindrome\")\n",
    "        return\n",
    "strinput=input(\"Enter the string\")\n",
    "string(strinput)"
   ]
  },
  {
   "cell_type": "markdown",
   "id": "f5c72ebf",
   "metadata": {},
   "source": [
    "# Write a function to check if a number is strong or not"
   ]
  },
  {
   "cell_type": "code",
   "execution_count": 9,
   "id": "df560e21",
   "metadata": {},
   "outputs": [
    {
     "name": "stdout",
     "output_type": "stream",
     "text": [
      "Enter the number145\n",
      "strong number\n"
     ]
    }
   ],
   "source": [
    "def strong(num):\n",
    "    count=0\n",
    "    fact=1\n",
    "    x=0\n",
    "    temp=num\n",
    "    i=0\n",
    "    while num!=0:\n",
    "        count=num%10\n",
    "        for i in range(1,count+1):\n",
    "            fact=fact*i\n",
    "        x+=fact\n",
    "        fact=1\n",
    "        num=num//10\n",
    "        i+=1    \n",
    "    if temp==x:\n",
    "        print(\"strong number\")\n",
    "        return\n",
    "    else:\n",
    "        print(\"Not strong number\")\n",
    "        return\n",
    "\n",
    "\n",
    "num=int(input(\"Enter the number\"))\n",
    "strong(num)"
   ]
  },
  {
   "cell_type": "markdown",
   "id": "d5ab6a2c",
   "metadata": {},
   "source": [
    "# Write a function to print sum of reverse of a number"
   ]
  },
  {
   "cell_type": "code",
   "execution_count": 5,
   "id": "343c30e3",
   "metadata": {},
   "outputs": [
    {
     "name": "stdout",
     "output_type": "stream",
     "text": [
      "Enter the number498\n",
      "21\n"
     ]
    }
   ],
   "source": [
    "def rev(num):\n",
    "    a=0\n",
    "    rev=0\n",
    "    i=0\n",
    "    sum_=0\n",
    "    while num!=0:\n",
    "        rev=num%10\n",
    "        a=a*10+rev\n",
    "        num=num//10\n",
    "        i+=1\n",
    "        sum_+=rev\n",
    "    print(sum_)\n",
    "num=int(input(\"Enter the number\"))\n",
    "rev(num)"
   ]
  },
  {
   "cell_type": "code",
   "execution_count": null,
   "id": "db42ffb3",
   "metadata": {},
   "outputs": [],
   "source": []
  }
 ],
 "metadata": {
  "kernelspec": {
   "display_name": "Python 3",
   "language": "python",
   "name": "python3"
  },
  "language_info": {
   "codemirror_mode": {
    "name": "ipython",
    "version": 3
   },
   "file_extension": ".py",
   "mimetype": "text/x-python",
   "name": "python",
   "nbconvert_exporter": "python",
   "pygments_lexer": "ipython3",
   "version": "3.8.8"
  }
 },
 "nbformat": 4,
 "nbformat_minor": 5
}
