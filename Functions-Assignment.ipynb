{
 "cells": [
  {
   "cell_type": "markdown",
   "id": "96082f2c",
   "metadata": {},
   "source": [
    "# Write a function to find the Max of three numbers."
   ]
  },
  {
   "cell_type": "code",
   "execution_count": 3,
   "id": "9f894b4f",
   "metadata": {},
   "outputs": [
    {
     "name": "stdout",
     "output_type": "stream",
     "text": [
      "10\n",
      "116\n",
      "10\n",
      "116\n"
     ]
    }
   ],
   "source": [
    "def maximum(a,b,c):\n",
    "    if a>b and a>c:\n",
    "        print(a)\n",
    "    elif b>c:\n",
    "        print(b)\n",
    "    else:\n",
    "        print(c)\n",
    "num1=int(input())\n",
    "num2=int(input())\n",
    "num3=int(input())\n",
    "maximum(num1,num2,num3)"
   ]
  },
  {
   "cell_type": "markdown",
   "id": "5bbb7726",
   "metadata": {},
   "source": [
    "# Write a program to print the sum of a list"
   ]
  },
  {
   "cell_type": "code",
   "execution_count": 6,
   "id": "d0c5d16f",
   "metadata": {},
   "outputs": [
    {
     "name": "stdout",
     "output_type": "stream",
     "text": [
      "15\n"
     ]
    }
   ],
   "source": [
    "def sum1(l1):\n",
    "    res=0\n",
    "    for i in range(len(l1)):\n",
    "        res=res+l1[i]\n",
    "    print(res)\n",
    "    \n",
    "l1=[1,2,3,4,5]\n",
    "sum1(l1)"
   ]
  },
  {
   "cell_type": "markdown",
   "id": "6c5177b7",
   "metadata": {},
   "source": [
    "# Write a program to multiply all numbers in a list"
   ]
  },
  {
   "cell_type": "code",
   "execution_count": 8,
   "id": "72c4f76e",
   "metadata": {},
   "outputs": [
    {
     "name": "stdout",
     "output_type": "stream",
     "text": [
      "120\n"
     ]
    }
   ],
   "source": [
    "def mul(l1):\n",
    "    res=1\n",
    "    for i in range(len(l1)):\n",
    "        res=res*l1[i]\n",
    "    print(res)\n",
    "    \n",
    "l1=[1,2,3,4,5]\n",
    "mul(l1)"
   ]
  },
  {
   "cell_type": "markdown",
   "id": "04694fa8",
   "metadata": {},
   "source": [
    "# Write a program to reverse a string"
   ]
  },
  {
   "cell_type": "code",
   "execution_count": 25,
   "id": "8ba588cf",
   "metadata": {},
   "outputs": [
    {
     "name": "stdout",
     "output_type": "stream",
     "text": [
      "Enter the stringathira valsan\n",
      "naslav arihta\n"
     ]
    }
   ],
   "source": [
    "def string(s1):\n",
    "    s2=\"\"\n",
    "    for i in range(len(s1)):\n",
    "        s2=s1[::-1]\n",
    "    print(s2)\n",
    "\n",
    "s1=input(\"Enter the string\")\n",
    "string(s1)"
   ]
  },
  {
   "cell_type": "markdown",
   "id": "e5a63917",
   "metadata": {},
   "source": [
    "# Write a function to calculate the factorial of a number."
   ]
  },
  {
   "cell_type": "code",
   "execution_count": 9,
   "id": "d72afbb8",
   "metadata": {},
   "outputs": [
    {
     "name": "stdout",
     "output_type": "stream",
     "text": [
      "Enter the number:5\n",
      "120\n"
     ]
    }
   ],
   "source": [
    "def fact(x):\n",
    "    res=1\n",
    "    for i in range(1,x+1):\n",
    "        res=res*i\n",
    "    return res\n",
    "\n",
    "num=int(input(\"Enter the number:\"))\n",
    "print(fact(num))"
   ]
  },
  {
   "cell_type": "markdown",
   "id": "d12ca7c5",
   "metadata": {},
   "source": [
    "# Write a function that accepts a string and calculate the number of upper case letters and lower case letters"
   ]
  },
  {
   "cell_type": "code",
   "execution_count": 16,
   "id": "e7a4ca11",
   "metadata": {},
   "outputs": [
    {
     "name": "stdout",
     "output_type": "stream",
     "text": [
      "Enter the stringAthira Valsan\n",
      "The count of upper case and lower case is as follows (2, 10)\n"
     ]
    }
   ],
   "source": [
    "def count(string):\n",
    "    ucount=0\n",
    "    lcount=0\n",
    "    for i in range(len(string)):\n",
    "        if string[i].isupper():\n",
    "            ucount+=1\n",
    "        elif string[i].islower():\n",
    "            lcount+=1\n",
    "    return(ucount,lcount)\n",
    "\n",
    "string=input(\"Enter the string\")\n",
    "print(\"The count of upper case and lower case is as follows\",count(string))\n",
    "        "
   ]
  },
  {
   "cell_type": "markdown",
   "id": "bf2f72e5",
   "metadata": {},
   "source": [
    "# Write a function that takes a list and returns a new list with unique elements of the first list."
   ]
  },
  {
   "cell_type": "code",
   "execution_count": 23,
   "id": "63ec6118",
   "metadata": {},
   "outputs": [
    {
     "name": "stdout",
     "output_type": "stream",
     "text": [
      "[1, 2, 3, 4, 5, 6]\n"
     ]
    }
   ],
   "source": [
    "def uniq(l1):\n",
    "    l2=[ ]\n",
    "    for i in range(len(l1)):\n",
    "        if l1[i] not in l2:\n",
    "            l2.append(l1[i])\n",
    "    print(l2)\n",
    "\n",
    "\n",
    "l1=[1,1,2,2,3,4,5,6,6]\n",
    "uniq(l1)"
   ]
  },
  {
   "cell_type": "code",
   "execution_count": null,
   "id": "bd57ea9c",
   "metadata": {},
   "outputs": [],
   "source": []
  }
 ],
 "metadata": {
  "kernelspec": {
   "display_name": "Python 3",
   "language": "python",
   "name": "python3"
  },
  "language_info": {
   "codemirror_mode": {
    "name": "ipython",
    "version": 3
   },
   "file_extension": ".py",
   "mimetype": "text/x-python",
   "name": "python",
   "nbconvert_exporter": "python",
   "pygments_lexer": "ipython3",
   "version": "3.8.8"
  }
 },
 "nbformat": 4,
 "nbformat_minor": 5
}
